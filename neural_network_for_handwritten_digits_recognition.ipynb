{
 "cells": [
  {
   "cell_type": "code",
   "execution_count": 1,
   "metadata": {
    "collapsed": true
   },
   "outputs": [],
   "source": [
    "import numpy\n",
    "# scipy.special for the sigmoid function expit() and inverse sigmoid logit()\n",
    "import scipy.special\n",
    "import matplotlib.pyplot as plt\n",
    "%matplotlib inline"
   ]
  },
  {
   "cell_type": "code",
   "execution_count": 2,
   "metadata": {
    "collapsed": true
   },
   "outputs": [],
   "source": [
    "class NeuralNetwork:\n",
    "    # initialize needed data\n",
    "    def __init__(self,input_nodes,hidden_nodes,output_nodes,learning_rate):\n",
    "        # set number of nodes in input, hidden and output layers\n",
    "        self.inodes = input_nodes\n",
    "        self.hnodes = hidden_nodes\n",
    "        self.onodes = output_nodes\n",
    "        \n",
    "        # initialize weight matrices\n",
    "        # input->hidden\n",
    "        #self.wih = numpy.random.rand(self.hnodes,self.inodes)-0.5\n",
    "        # center, stardard deviation 1/sqrt(number of links to each node of incoming layer)\n",
    "        self.wih = numpy.random.normal(0.0,pow(self.inodes,-0.5),(self.hnodes,self.inodes)) \n",
    "        # hidden->output\n",
    "        # self.who = numpy.random.rand(self.onodes,self.hnodes)-0.5\n",
    "        self.who = numpy.random.normal(0.0,pow(self.hnodes,-0.5),(self.onodes,self.hnodes))\n",
    "        \n",
    "        # activation function is the sigmoid function\n",
    "        self.activation_function = lambda x: scipy.special.expit(x)\n",
    "        self.inverse_activation_function = lambda x: scipy.special.logit(x)\n",
    "        # learning rate\n",
    "        self.lr = learning_rate\n",
    "        pass\n",
    "    \n",
    "    # refine the weights \n",
    "    def train(self,inputs_list,targets_list):\n",
    "        # convert inputs_list to 2d array\n",
    "        inputs = numpy.array(inputs_list,ndmin=2).T\n",
    "        targets = numpy.array(targets_list,ndmin=2).T\n",
    "        \n",
    "        # calcualte signal into hidden layer\n",
    "        hidden_inputs = numpy.dot(self.wih,inputs)\n",
    "        # calculate outputs from hidden layer\n",
    "        hidden_outputs = self.activation_function(hidden_inputs)\n",
    "        \n",
    "        final_inputs = numpy.dot(self.who,hidden_outputs)\n",
    "        final_outputs = self.activation_function(final_inputs)\n",
    "        \n",
    "        # errors\n",
    "        output_errors = targets - final_outputs\n",
    "        \n",
    "        # calculate errors for hidden nodes e_hidden = who.T * e_out \n",
    "        hidden_errors = numpy.dot(self.who.T, output_errors)\n",
    "        \n",
    "        #update weights between the hidden and output layers\n",
    "        # new = old - lr * de/dwij\n",
    "        self.who += self.lr * numpy.dot((output_errors * final_outputs * (1 - final_outputs)),numpy.transpose(hidden_outputs))\n",
    "        #update weights between the input and hidden layers\n",
    "        self.wih += self.lr * numpy.dot((hidden_errors * hidden_outputs * (1 - hidden_outputs)),numpy.transpose(inputs))\n",
    "        pass\n",
    "    \n",
    "    # get answer from output nodes\n",
    "    def query(self,inputs_list):\n",
    "        # convert inputs_list to 2d array\n",
    "        inputs = numpy.array(inputs_list,ndmin=2).T\n",
    "        \n",
    "         # calculate signals into hidden layer -> X = WIH * I\n",
    "        hidden_inputs = numpy.dot(self.wih,inputs)\n",
    "         # calculate the signals emerging from hidden layer -> O = activation_function(hidden_inputs)\n",
    "        hidden_outputs = self.activation_function(hidden_inputs)\n",
    "        \n",
    "        final_inputs = numpy.dot(self.who,hidden_outputs)\n",
    "        final_outputs = self.activation_function(final_inputs)\n",
    "        \n",
    "        return final_outputs\n",
    "    \n",
    "    # backquery the neural network\n",
    "    # we'll use the same termnimology to each item, \n",
    "    # eg target are the values at the right of the network, albeit used as input\n",
    "    # eg hidden_output is the signal to the right of the middle nodes\n",
    "    def backquery(self, targets_list):\n",
    "        # transpose the targets list to a vertical array\n",
    "        final_outputs = numpy.array(targets_list, ndmin=2).T\n",
    "        \n",
    "        # calculate the signal into the final output layer\n",
    "        final_inputs = self.inverse_activation_function(final_outputs)\n",
    "\n",
    "        # calculate the signal out of the hidden layer\n",
    "        hidden_outputs = numpy.dot(self.who.T, final_inputs)\n",
    "        # scale them back to 0.01 to .99\n",
    "        hidden_outputs -= numpy.min(hidden_outputs)\n",
    "        hidden_outputs /= numpy.max(hidden_outputs)\n",
    "        hidden_outputs *= 0.98\n",
    "        hidden_outputs += 0.01\n",
    "        \n",
    "        # calculate the signal into the hidden layer\n",
    "        hidden_inputs = self.inverse_activation_function(hidden_outputs)\n",
    "        \n",
    "        # calculate the signal out of the input layer\n",
    "        inputs = numpy.dot(self.wih.T, hidden_inputs)\n",
    "        # scale them back to 0.01 to .99\n",
    "        inputs -= numpy.min(inputs)\n",
    "        inputs /= numpy.max(inputs)\n",
    "        inputs *= 0.98\n",
    "        inputs += 0.01\n",
    "        \n",
    "        return inputs"
   ]
  },
  {
   "cell_type": "code",
   "execution_count": 4,
   "metadata": {
    "collapsed": true
   },
   "outputs": [],
   "source": [
    "##### Also possible to variate activation functions and scaling\n",
    "# values for input, hidden and output nodes\n",
    "input_nodes = 784\n",
    "hidden_nodes = 200  ##### Change\n",
    "output_nodes = 10\n",
    "\n",
    "# learning rate\n",
    "learning_rate = 0.1 ##### Change\n",
    "\n",
    "# instanse of neural network\n",
    "n = NeuralNetwork(input_nodes,hidden_nodes,output_nodes,learning_rate)"
   ]
  },
  {
   "cell_type": "code",
   "execution_count": 124,
   "metadata": {
    "collapsed": true
   },
   "outputs": [],
   "source": [
    "# load the MINST training data file into a list\n",
    "training_data_file = open(\"mnist dataset/mnist_train.csv\",'r')\n",
    "training_data_list = training_data_file.readlines()\n",
    "training_data_file.close()"
   ]
  },
  {
   "cell_type": "code",
   "execution_count": 127,
   "metadata": {},
   "outputs": [
    {
     "name": "stdout",
     "output_type": "stream",
     "text": [
      "Ended training\n"
     ]
    }
   ],
   "source": [
    "# train the neural network\n",
    "import scipy.ndimage.interpolation\n",
    "for epochs in range(0,10):  ##### Change\n",
    "    for record in training_data_list:\n",
    "        all_values = record.split(',')\n",
    "        inputs = (numpy.asfarray(all_values[1:])/255*0.99)+0.01\n",
    "        targets = numpy.zeros(output_nodes)+0.01\n",
    "        targets[int(all_values[0])]=0.99\n",
    "        \n",
    "        targets_plus_10 = scipy.ndimage.interpolation.rotate(inputs.reshape(28,28),10,cval=0.01,reshape=False)\n",
    "        targets_minus_10 = scipy.ndimage.interpolation.rotate(inputs.reshape(28,28),-10,cval=0.01,reshape=False)\n",
    "        \n",
    "        n.train(inputs,targets)\n",
    "        n.train(targets_plus_10.reshape(784),targets)\n",
    "        n.train(targets_minus_10.reshape(784),targets)\n",
    "        pass\n",
    "    pass\n",
    "print(\"Ended training\")"
   ]
  },
  {
   "cell_type": "code",
   "execution_count": 128,
   "metadata": {
    "scrolled": true
   },
   "outputs": [
    {
     "name": "stdout",
     "output_type": "stream",
     "text": [
      "Performance:  0.9676\n"
     ]
    }
   ],
   "source": [
    "# test the neural network!\n",
    "testing_data_file = open(\"mnist dataset/mnist_test.csv\",'r')\n",
    "testing_list = testing_data_file.readlines()\n",
    "testing_data_file.close()\n",
    "\n",
    "scorecard=[]\n",
    "for testing_record in testing_list:\n",
    "    testing_inputs = testing_record.split(',')\n",
    "\n",
    "    testing_list = (numpy.asfarray(testing_inputs[1:])/255*0.99)+0.01\n",
    "    result=n.query(testing_list)\n",
    "    index=numpy.argmax(result)\n",
    "    if (index==int(testing_inputs[0])):\n",
    "        scorecard.append(1)\n",
    "    else:\n",
    "        scorecard.append(0)\n",
    "        pass\n",
    "    pass\n",
    "scorecard_array=numpy.asarray(scorecard)\n",
    "print(\"Performance: \",scorecard_array.sum()/scorecard_array.size)"
   ]
  },
  {
   "cell_type": "code",
   "execution_count": 145,
   "metadata": {},
   "outputs": [
    {
     "data": {
      "image/png": "[encoded data removed]",
      "text/plain": [
       "<matplotlib.figure.Figure at 0x2d16296c518>"
      ]
     },
     "metadata": {},
     "output_type": "display_data"
    }
   ],
   "source": [
    "plt.plot([0.3,0.1,0.3],[0.947,0.9676,0.954],'bo-')\n",
    "plt.axis([0,0.7,0,1])\n",
    "plt.ylabel('Performance')\n",
    "plt.xlabel('Learning rate')\n",
    "plt.show()"
   ]
  },
  {
   "cell_type": "code",
   "execution_count": 3,
   "metadata": {},
   "outputs": [
    {
     "data": {
      "image/png": "[encoded data removed]",
      "text/plain": [
       "<matplotlib.figure.Figure at 0x233757f0518>"
      ]
     },
     "metadata": {},
     "output_type": "display_data"
    },
    {
     "ename": "NameError",
     "evalue": "name 'n' is not defined",
     "output_type": "error",
     "traceback": [
      "\u001b[1;31m---------------------------------------------------------------------------\u001b[0m",
      "\u001b[1;31mNameError\u001b[0m                                 Traceback (most recent call last)",
      "\u001b[1;32m<ipython-input-3-a8d0ab39e701>\u001b[0m in \u001b[0;36m<module>\u001b[1;34m()\u001b[0m\n\u001b[0;32m      9\u001b[0m \u001b[1;33m\u001b[0m\u001b[0m\n\u001b[0;32m     10\u001b[0m \u001b[1;33m\u001b[0m\u001b[0m\n\u001b[1;32m---> 11\u001b[1;33m \u001b[0mresult\u001b[0m \u001b[1;33m=\u001b[0m \u001b[0mnumpy\u001b[0m\u001b[1;33m.\u001b[0m\u001b[0margmax\u001b[0m\u001b[1;33m(\u001b[0m\u001b[0mn\u001b[0m\u001b[1;33m.\u001b[0m\u001b[0mquery\u001b[0m\u001b[1;33m(\u001b[0m\u001b[0mimg_list\u001b[0m\u001b[1;33m)\u001b[0m\u001b[1;33m)\u001b[0m\u001b[1;33m\u001b[0m\u001b[0m\n\u001b[0m\u001b[0;32m     12\u001b[0m \u001b[0mprint\u001b[0m\u001b[1;33m(\u001b[0m\u001b[0mresult\u001b[0m\u001b[1;33m)\u001b[0m\u001b[1;33m\u001b[0m\u001b[0m\n",
      "\u001b[1;31mNameError\u001b[0m: name 'n' is not defined"
     ]
    }
   ],
   "source": [
    "# train on my own input data\n",
    "import scipy.misc\n",
    "img_array = scipy.misc.imread(\"test_1.png\",flatten=True)\n",
    "\n",
    "img_list = 255.0 - img_array.reshape(784)\n",
    "img_list = (img_list/255 * 0.99)+0.01\n",
    "plt.imshow(img_list.reshape(28,28),cmap='Greys',interpolation='None')\n",
    "plt.show()\n",
    "\n",
    "\n",
    "result = numpy.argmax(n.query(img_list))\n",
    "print(result)"
   ]
  },
  {
   "cell_type": "code",
   "execution_count": 5,
   "metadata": {},
   "outputs": [
    {
     "name": "stdout",
     "output_type": "stream",
     "text": [
      "[ 0.01  0.01  0.01  0.99  0.01  0.01  0.01  0.01  0.01  0.01]\n"
     ]
    },
    {
     "data": {
      "image/png": "[encoded data removed]",
      "text/plain": [
       "<matplotlib.figure.Figure at 0x23375b5df28>"
      ]
     },
     "metadata": {},
     "output_type": "display_data"
    }
   ],
   "source": [
    "input_list = numpy.zeros(10)+0.01\n",
    "input_list[3]=0.99\n",
    "print(input_list)\n",
    "res_image = n.backquery(input_list)\n",
    "plt.imshow(res_image.reshape(28,28),cmap='Greys',interpolation='None')\n",
    "plt.show()\n"
   ]
  },
  {
   "cell_type": "code",
   "execution_count": 142,
   "metadata": {},
   "outputs": [
    {
     "data": {
      "image/png": "[encoded data removed]",
      "text/plain": [
       "<matplotlib.figure.Figure at 0x2d162a29cc0>"
      ]
     },
     "metadata": {},
     "output_type": "display_data"
    }
   ],
   "source": [
    "import scipy.ndimage.interpolation\n",
    "testing_data_file = open(\"mnist dataset/mnist_test.csv\",'r')\n",
    "testing_list = testing_data_file.readlines()\n",
    "testing_data_file.close()\n",
    "\n",
    "testing_inputs = testing_list[0].split(',')\n",
    "testing_list = (numpy.asfarray(testing_inputs[1:])/255*0.99)+0.01\n",
    "plus_10 = scipy.ndimage.interpolation.rotate(testing_list.reshape(28,28),10,cval=0.01,reshape=False)\n",
    "minus_10 = scipy.ndimage.interpolation.rotate(testing_list.reshape(28,28),-10,cval=0.01,reshape=False)\n",
    "plt.imshow(plus_10,cmap='Greys',interpolation='None')\n",
    "pls.imshow(minus_10,cmap='Greys',interpolation='None')\n",
    "plt.show()"
   ]
  }
 ],
 "metadata": {
  "kernelspec": {
   "display_name": "Python 3",
   "language": "python",
   "name": "python3"
  },
  "language_info": {
   "codemirror_mode": {
    "name": "ipython",
    "version": 3
   },
   "file_extension": ".py",
   "mimetype": "text/x-python",
   "name": "python",
   "nbconvert_exporter": "python",
   "pygments_lexer": "ipython3",
   "version": "3.6.3"
  }
 },
 "nbformat": 4,
 "nbformat_minor": 2
}
