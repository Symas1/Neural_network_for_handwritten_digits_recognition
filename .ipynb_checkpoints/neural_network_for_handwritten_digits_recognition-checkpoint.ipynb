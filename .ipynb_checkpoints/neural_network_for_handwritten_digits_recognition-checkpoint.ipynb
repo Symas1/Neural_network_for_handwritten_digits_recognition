{
 "cells": [
  {
   "cell_type": "code",
   "execution_count": 1,
   "metadata": {
    "collapsed": true
   },
   "outputs": [],
   "source": [
    "import numpy\n",
    "# scipy.special for the sigmoid function expit()\n",
    "import scipy.special"
   ]
  },
  {
   "cell_type": "code",
   "execution_count": 2,
   "metadata": {
    "collapsed": true
   },
   "outputs": [],
   "source": [
    "class NeuralNetwork:\n",
    "    # initialize needed data\n",
    "    def __init__(self,input_nodes,hidden_nodes,output_nodes,learning_rate):\n",
    "        # set number of nodes in input, hidden and output layers\n",
    "        self.inodes = input_nodes\n",
    "        self.hnodes = hidden_nodes\n",
    "        self.onodes = output_nodes\n",
    "        \n",
    "        # initialize weight matrices\n",
    "        # input->hidden\n",
    "        #self.wih = numpy.random.rand(self.hnodes,self.inodes)-0.5\n",
    "        # center, stardard deviation 1/sqrt(number of links to each node of incoming layer)\n",
    "        self.wih = numpy.random.normal(0.0,pow(self.inodes,-0.5),(self.hnodes,self.inodes)) \n",
    "        print(self.wih)\n",
    "        # hidden->output\n",
    "        # self.who = numpy.random.rand(self.onodes,self.hnodes)-0.5\n",
    "        self.who = numpy.random.normal(0.0,pow(self.hnodes,-0.5),(self.onodes,self.hnodes))\n",
    "        \n",
    "        # activation function is the sigmoid function\n",
    "        self.activation_function = lambda x: scipy.special.expit(x)\n",
    "        \n",
    "        # learning rate\n",
    "        self.lr = learning_rate\n",
    "        pass\n",
    "    \n",
    "    # refine the weights \n",
    "    def train(self,inputs_list,targets_list):\n",
    "        # convert inputs_list to 2d array\n",
    "        inputs = numpy.array(inputs_list,ndmin=2).T\n",
    "        targets = numpy.array(targets_list,ndmin=2).T\n",
    "        \n",
    "        # calcualte signal into hidden layer\n",
    "        hidden_inputs = numpy.dot(self.wih,inputs)\n",
    "        # calculate outputs from hidden layer\n",
    "        hidden_outputs = self.activation_function(hidden_inputs)\n",
    "        \n",
    "        final_inputs = numpy.dot(self.who,hidden_outputs)\n",
    "        final_outputs = self.activation_function(final_inputs)\n",
    "        \n",
    "        # errors\n",
    "        output_errors = targets - final_outputs\n",
    "        \n",
    "        # calculate errors for hidden nodes e_hidden = who.T * e_out \n",
    "        hidden_errors = numpy.dot(self.who.T, output_errors)\n",
    "        \n",
    "        #update weights between the hidden and output layers\n",
    "        # new = old - lr * de/dwij\n",
    "        self.who += self.lr * numpy.dot((output_errors * final_outputs * (1 - final_outputs)),numpy.transpose(hidden_outputs))\n",
    "        #update weights between the input and hidden layers\n",
    "        self.wih += self.lr * numpy.dot((hidden_errors * hidden_outputs * (1 - hidden_outputs)),numpy.transpose(inputs))\n",
    "        pass\n",
    "    \n",
    "    # get answer from output nodes\n",
    "    def query(self,inputs_list):\n",
    "        # convert inputs_list to 2d array\n",
    "        inputs = numpy.array(inputs_list,ndmin=2).T\n",
    "        \n",
    "         # calculate signals into hidden layer -> X = WIH * I\n",
    "        hidden_inputs = numpy.dot(self.wih,inputs)\n",
    "         # calculate the signals emerging from hidden layer -> O = activation_function(hidden_inputs)\n",
    "        hidden_outputs = self.activation_function(hidden_inputs)\n",
    "        \n",
    "        final_inputs = numpy.dot(self.who,hidden_outputs)\n",
    "        final_outputs = self.activation_function(final_inputs)\n",
    "        \n",
    "        return final_outputs\n",
    "        pass\n",
    "    \n",
    "    def inverse_query(self,label_list):\n",
    "        label = numpy.array(label_list,ndmin=2).T\n",
    "        pass"
   ]
  },
  {
   "cell_type": "code",
   "execution_count": 3,
   "metadata": {},
   "outputs": [
    {
     "name": "stdout",
     "output_type": "stream",
     "text": [
      "[[ 0.00961617  0.01511934 -0.01671644 ...,  0.00858902 -0.05164853\n",
      "   0.01321544]\n",
      " [-0.02208403 -0.01844109  0.00787377 ..., -0.01825572 -0.04446242\n",
      "   0.02601322]\n",
      " [ 0.06099663  0.00932933 -0.03559514 ..., -0.02583146  0.03771019\n",
      "   0.02904623]\n",
      " ..., \n",
      " [-0.05376414  0.06188282  0.02649261 ...,  0.00016835 -0.04267917\n",
      "  -0.01228715]\n",
      " [-0.01229992  0.0019419   0.0838303  ..., -0.04863056  0.02997458\n",
      "  -0.05980403]\n",
      " [-0.02889273 -0.01654082 -0.00064863 ...,  0.07354785  0.02875533\n",
      "  -0.00422175]]\n"
     ]
    }
   ],
   "source": [
    "##### Also possible to variate activation functions and scaling\n",
    "# values for input, hidden and output nodes\n",
    "input_nodes = 784\n",
    "hidden_nodes = 100  ##### Change\n",
    "output_nodes = 10\n",
    "\n",
    "# learning rate\n",
    "learning_rate = 0.3 ##### Change\n",
    "\n",
    "# instanse of neural network\n",
    "n = NeuralNetwork(input_nodes,hidden_nodes,output_nodes,learning_rate)\n",
    "\n",
    "# load the MINST training data file into a list\n",
    "training_data_file = open(\"mnist dataset/mnist_train.csv\",'r')\n",
    "training_data_list = training_data_file.readlines()\n",
    "training_data_file.close()\n",
    "\n",
    "# train the neural network\n",
    "for epochs in range(0,1):  ##### Change\n",
    "    for record in training_data_list:\n",
    "        all_values = record.split(',')\n",
    "        inputs = (numpy.asfarray(all_values[1:])/255*0.99)+0.01\n",
    "        targets = numpy.zeros(output_nodes)+0.01\n",
    "        targets[int(all_values[0])]=0.99\n",
    "        n.train(inputs,targets)\n",
    "        pass\n",
    "    pass"
   ]
  },
  {
   "cell_type": "code",
   "execution_count": 4,
   "metadata": {
    "scrolled": true
   },
   "outputs": [
    {
     "name": "stdout",
     "output_type": "stream",
     "text": [
      "Performance:  0.9462\n"
     ]
    }
   ],
   "source": [
    "# test the neural network!\n",
    "testing_data_file = open(\"mnist dataset/mnist_test.csv\",'r')\n",
    "testing_list = testing_data_file.readlines()\n",
    "testing_data_file.close()\n",
    "\n",
    "scorecard=[]\n",
    "for testing_record in testing_list:\n",
    "    testing_inputs = testing_record.split(',')\n",
    "\n",
    "    testing_list = (numpy.asfarray(testing_inputs[1:])/255*0.99)+0.01\n",
    "    result=n.query(testing_list)\n",
    "    index=numpy.argmax(result)\n",
    "    if (index==int(testing_inputs[0])):\n",
    "        scorecard.append(1)\n",
    "    else:\n",
    "        scorecard.append(0)\n",
    "        pass\n",
    "    pass\n",
    "scorecard_array=numpy.asarray(scorecard)\n",
    "print(\"Performance: \",scorecard_array.sum()/scorecard_array.size)"
   ]
  }
 ],
 "metadata": {
  "kernelspec": {
   "display_name": "Python 3",
   "language": "python",
   "name": "python3"
  },
  "language_info": {
   "codemirror_mode": {
    "name": "ipython",
    "version": 3
   },
   "file_extension": ".py",
   "mimetype": "text/x-python",
   "name": "python",
   "nbconvert_exporter": "python",
   "pygments_lexer": "ipython3",
   "version": "3.6.3"
  }
 },
 "nbformat": 4,
 "nbformat_minor": 2
}
